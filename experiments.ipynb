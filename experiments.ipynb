{
 "cells": [
  {
   "cell_type": "code",
   "execution_count": 3,
   "metadata": {},
   "outputs": [
    {
     "name": "stdout",
     "output_type": "stream",
     "text": [
      "1551\n"
     ]
    }
   ],
   "source": [
    "import Backpropogation as bp\n",
    "import numpy as np\n",
    "\n",
    "input = np.array([[0, 0, 0, 0, 0, 0, 0, 1],\n",
    "                    [0, 0, 0, 0, 0, 0, 1, 0],\n",
    "                    [0, 0, 0, 0, 0, 1, 0, 0],\n",
    "                    [0, 0, 0, 0, 1, 0, 0, 0],\n",
    "                    [0, 0, 0, 1, 0, 0, 0, 0],\n",
    "                    [0, 0, 1, 0, 0, 0, 0, 0],\n",
    "                    [0, 1, 0, 0, 0, 0, 0, 0],\n",
    "                    [1, 0, 0, 0, 0, 0, 0, 0]])\n",
    "\n",
    "target = np.array([[0, 0, 0, 0, 0, 0, 0, 1],\n",
    "                    [0, 0, 0, 0, 0, 0, 1, 0],\n",
    "                    [0, 0, 0, 0, 0, 1, 0, 0],\n",
    "                    [0, 0, 0, 0, 1, 0, 0, 0],\n",
    "                    [0, 0, 0, 1, 0, 0, 0, 0],\n",
    "                    [0, 0, 1, 0, 0, 0, 0, 0],\n",
    "                    [0, 1, 0, 0, 0, 0, 0, 0],\n",
    "                    [1, 0, 0, 0, 0, 0, 0, 0]])\n",
    "\n",
    "learning_rate = 0.1\n",
    "\n",
    "nn = bp.neural_network(input,target,learning_rate)\n",
    "\n",
    "print(nn.train())\n"
   ]
  },
  {
   "cell_type": "markdown",
   "metadata": {},
   "source": [
    "Experiment with 50 times and get the average number of epochs for convergence "
   ]
  },
  {
   "cell_type": "code",
   "execution_count": 3,
   "metadata": {},
   "outputs": [
    {
     "name": "stdout",
     "output_type": "stream",
     "text": [
      "[1090, 1049, 1307, 1264, 2000, 5408, 1351, 1758, 1867, 1907, 2102, 1382, 2106, 1016, 1789, 1801, 3470, 2979, 3389, 1362, 3526, 1525, 1083, 2341, 1438, 1888, 1738, 658, 1722, 4433, 2539, 909, 2131, 742, 2125, 2556, 2321, 1910, 1813, 2858, 2614, 1464, 1005, 1202, 2470, 885, 1364, 2374, 756, 2783]\n",
      "Average: 1951.4\n"
     ]
    }
   ],
   "source": [
    "exp=[]\n",
    "for i in range(50):\n",
    "    nn=bp.neural_network(input,output,learning_rate)\n",
    "    exp.append(nn.train())\n",
    "print(exp)\n",
    "print(\"Average:\",np.mean(exp))"
   ]
  },
  {
   "cell_type": "code",
   "execution_count": 5,
   "metadata": {},
   "outputs": [
    {
     "name": "stdout",
     "output_type": "stream",
     "text": [
      "[599, 1082, 904, 1332, 1363, 654, 794, 264, 1771, 829, 1019, 1444, 758, 321, 1192, 522, 904, 1450, 2627, 1383, 1288, 347, 646, 760, 364, 1283, 841, 1470, 640, 890, 867, 918, 336, 263, 1505, 749, 739, 709, 776, 2612, 1046, 1647, 1395, 1775, 874, 907, 1100, 557, 692, 1109]\n",
      "Average: 1006.34\n"
     ]
    }
   ],
   "source": [
    "learning_rate = 0.2\n",
    "exp=[]\n",
    "for i in range(50):\n",
    "    nn=bp.neural_network(input,output,learning_rate)\n",
    "    exp.append(nn.train())\n",
    "print(exp)\n",
    "print(\"Average:\",np.mean(exp))"
   ]
  },
  {
   "cell_type": "code",
   "execution_count": 2,
   "metadata": {},
   "outputs": [
    {
     "data": {
      "text/plain": [
       "array([[ 3.62399897, -3.44080122, -3.63711633],\n",
       "       [ 2.74701267,  5.54260675, -3.01372834],\n",
       "       [-3.59736964, -3.28856729,  1.64531388],\n",
       "       [ 3.80203369,  2.28200409,  0.08356061],\n",
       "       [-4.48709948,  1.12778577, -2.84082953],\n",
       "       [ 3.9615825 , -2.86280877,  5.51958434],\n",
       "       [-1.13428339,  5.41962611,  5.58338919],\n",
       "       [-0.60042721, -1.64331738,  0.23209329],\n",
       "       [ 0.28527292, -0.93171572, -0.54945935]])"
      ]
     },
     "execution_count": 2,
     "metadata": {},
     "output_type": "execute_result"
    }
   ],
   "source": [
    "nn.get_inputlayer()"
   ]
  },
  {
   "cell_type": "markdown",
   "metadata": {},
   "source": [
    "The input layer's weights is in shape 9x3. The last row is for bias."
   ]
  },
  {
   "cell_type": "code",
   "execution_count": 3,
   "metadata": {},
   "outputs": [
    {
     "data": {
      "text/plain": [
       "array([[ 2.38053342,  0.72054983, -3.74674852,  1.33716017, -4.46495637,\n",
       "         2.1770467 , -2.30099569, -0.63735134],\n",
       "       [-3.69094102,  3.81949807, -3.06365371,  1.18997283,  1.38758791,\n",
       "        -2.95231128,  3.5000165 , -1.74157306],\n",
       "       [-3.76732987, -3.50277346,  1.77324503, -0.82817482, -3.37029923,\n",
       "         3.60441878,  3.31868858, -0.13797432],\n",
       "       [-0.89697147, -3.53872211, -0.24502595, -2.80658279,  0.71980959,\n",
       "        -4.30413438, -4.32398549, -0.84349838]])"
      ]
     },
     "execution_count": 3,
     "metadata": {},
     "output_type": "execute_result"
    }
   ],
   "source": [
    "nn.get_hiddenlayer()"
   ]
  },
  {
   "cell_type": "markdown",
   "metadata": {},
   "source": []
  }
 ],
 "metadata": {
  "kernelspec": {
   "display_name": "Python 3",
   "language": "python",
   "name": "python3"
  },
  "language_info": {
   "codemirror_mode": {
    "name": "ipython",
    "version": 3
   },
   "file_extension": ".py",
   "mimetype": "text/x-python",
   "name": "python",
   "nbconvert_exporter": "python",
   "pygments_lexer": "ipython3",
   "version": "3.12.2"
  }
 },
 "nbformat": 4,
 "nbformat_minor": 2
}
